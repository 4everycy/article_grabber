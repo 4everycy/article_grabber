{
 "cells": [
  {
   "cell_type": "code",
   "execution_count": 2,
   "metadata": {
    "ExecuteTime": {
     "end_time": "2020-06-02T03:30:15.912620Z",
     "start_time": "2020-06-02T03:30:15.256375Z"
    }
   },
   "outputs": [],
   "source": [
    "# 网络文献标题抓取器\n",
    "# Written by yecy\n",
    "\n",
    "# 2021-01-20 ver 2.0\n",
    "# 增加对Elsevier的支持，优化交互及使用体验\n",
    "\n",
    "# 2020-04-28 ver 1.0\n",
    "# 实现抓取Wiley文献标题并提供翻译\n",
    "\n",
    "from requests_html import HTMLSession\n",
    "import requests\n",
    "import pandas as pd\n",
    "import json"
   ]
  },
  {
   "cell_type": "code",
   "execution_count": 3,
   "metadata": {
    "ExecuteTime": {
     "end_time": "2020-06-02T03:30:17.440865Z",
     "start_time": "2020-06-02T03:30:17.435893Z"
    }
   },
   "outputs": [],
   "source": [
    "def get_titles(sel):\n",
    "    titles = []\n",
    "    try:\n",
    "        results = rec.html.find(sel)\n",
    "        for result in results:\n",
    "            get_title = result.text\n",
    "            titles.append(get_title)\n",
    "        return titles\n",
    "    except:\n",
    "        return None"
   ]
  },
  {
   "cell_type": "code",
   "execution_count": 4,
   "metadata": {
    "ExecuteTime": {
     "end_time": "2020-06-02T03:30:18.006433Z",
     "start_time": "2020-06-02T03:30:18.000474Z"
    }
   },
   "outputs": [],
   "source": [
    "# 有道翻译\n",
    "# edited from https://blog.csdn.net/qq_36771895/article/details/90510742\n",
    "    \n",
    "def translator(str):\n",
    "    \"\"\"\n",
    "    input : str 需要翻译的字符串\n",
    "    output：translation 翻译后的字符串\n",
    "    \"\"\"\n",
    "    # API\n",
    "    url = 'http://fanyi.youdao.com/translate?smartresult=dict&smartresult=rule&smartresult=ugc&sessionFrom=null'\n",
    "    # 传输的参数， i为要翻译的内容\n",
    "    key = {\n",
    "        'type': \"AUTO\",\n",
    "        'i': str,\n",
    "        \"doctype\": \"json\",\n",
    "        \"version\": \"2.1\",\n",
    "        \"keyfrom\": \"fanyi.web\",\n",
    "        \"ue\": \"UTF-8\",\n",
    "        \"action\": \"FY_BY_CLICKBUTTON\",\n",
    "        \"typoResult\": \"true\"\n",
    "    }\n",
    "    # key 这个字典为发送给有道词典服务器的内容\n",
    "    response = requests.post(url, data=key)\n",
    "    # 判断服务器是否相应成功\n",
    "    if response.status_code == 200:\n",
    "        # 通过 json.loads 把返回的结果加载成 json 格式\n",
    "        result = json.loads(response.text)\n",
    "#         print (\"输入的词为：%s\" % result['translateResult'][0][0]['src'])\n",
    "#         print (\"翻译结果为：%s\" % result['translateResult'][0][0]['tgt'])\n",
    "        translation = result['translateResult'][0][0]['tgt']\n",
    "        return translation\n",
    "    else:\n",
    "        # 相应失败就返回空\n",
    "        return None"
   ]
  },
  {
   "cell_type": "code",
   "execution_count": 5,
   "metadata": {
    "ExecuteTime": {
     "end_time": "2020-06-02T03:30:19.239125Z",
     "start_time": "2020-06-02T03:30:19.234139Z"
    }
   },
   "outputs": [],
   "source": [
    "def get_translations(titles):\n",
    "    results = []\n",
    "    for title in titles:\n",
    "        trans_results = translator(title)\n",
    "        results.append(trans_results)\n",
    "    return results"
   ]
  },
  {
   "cell_type": "code",
   "execution_count": 6,
   "metadata": {
    "ExecuteTime": {
     "end_time": "2020-06-02T03:30:35.720713Z",
     "start_time": "2020-06-02T03:30:32.751761Z"
    }
   },
   "outputs": [
    {
     "name": "stdout",
     "output_type": "stream",
     "text": [
      "Enter the URL of the page you want to grab from: https://onlinelibrary.wiley.com/toc/1099114x/2021/45/1\n"
     ]
    }
   ],
   "source": [
    "session = HTMLSession()\n",
    "url = input('Enter the URL of the page you want to grab from: ') # Need to be edited\n",
    "rec = session.get(url)\n",
    "# print(rec.html.text)\n",
    "# print(rec.html.links)"
   ]
  },
  {
   "cell_type": "code",
   "execution_count": 7,
   "metadata": {
    "ExecuteTime": {
     "end_time": "2020-06-02T03:31:05.606730Z",
     "start_time": "2020-06-02T03:31:05.370334Z"
    },
    "scrolled": true
   },
   "outputs": [],
   "source": [
    "if 'wiley' in url:\n",
    "    sel = '#main-content > div.page-body.pagefulltext > div > section > div > div > div > div.main-content.col-md-8 > div.toc-wrapper > div.table-of-content > div > div > div > a > h2'\n",
    "elif 'sciencedirect' in url:\n",
    "    sel = '#article-0 > ol > li > dl > dt > h3 > a > span > span'\n",
    "# 根据不同页面相应修改\n",
    "\n",
    "results = rec.html.find(sel)\n",
    "# results"
   ]
  },
  {
   "cell_type": "code",
   "execution_count": 8,
   "metadata": {},
   "outputs": [
    {
     "name": "stdout",
     "output_type": "stream",
     "text": [
      "Translate?(Y or N)N\n"
     ]
    }
   ],
   "source": [
    "# print(get_titles(sel))\n",
    "titles = get_titles(sel)\n",
    "check = input('Translate?(Y or N)')\n",
    "while 1:\n",
    "    if check == 'Y':\n",
    "        translations = get_translations(titles)\n",
    "        df = pd.DataFrame({'English': titles, 'Chinese': translations})\n",
    "        break\n",
    "    elif check == 'N':\n",
    "        df = pd.DataFrame(titles)\n",
    "        break\n",
    "    else:\n",
    "        print('Please enter Y or N')\n",
    "\n",
    "# df"
   ]
  },
  {
   "cell_type": "code",
   "execution_count": 9,
   "metadata": {},
   "outputs": [],
   "source": [
    "# output\n",
    "df.to_excel('article_grab.xlsx')"
   ]
  }
 ],
 "metadata": {
  "kernelspec": {
   "display_name": "Python 3",
   "language": "python",
   "name": "python3"
  },
  "language_info": {
   "codemirror_mode": {
    "name": "ipython",
    "version": 3
   },
   "file_extension": ".py",
   "mimetype": "text/x-python",
   "name": "python",
   "nbconvert_exporter": "python",
   "pygments_lexer": "ipython3",
   "version": "3.7.6"
  },
  "varInspector": {
   "cols": {
    "lenName": 16,
    "lenType": 16,
    "lenVar": 40
   },
   "kernels_config": {
    "python": {
     "delete_cmd_postfix": "",
     "delete_cmd_prefix": "del ",
     "library": "var_list.py",
     "varRefreshCmd": "print(var_dic_list())"
    },
    "r": {
     "delete_cmd_postfix": ") ",
     "delete_cmd_prefix": "rm(",
     "library": "var_list.r",
     "varRefreshCmd": "cat(var_dic_list()) "
    }
   },
   "types_to_exclude": [
    "module",
    "function",
    "builtin_function_or_method",
    "instance",
    "_Feature"
   ],
   "window_display": false
  }
 },
 "nbformat": 4,
 "nbformat_minor": 4
}
