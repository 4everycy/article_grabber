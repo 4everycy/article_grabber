{
 "cells": [
  {
   "cell_type": "code",
   "execution_count": 37,
   "metadata": {},
   "outputs": [],
   "source": [
    "# 实现抓取Wiley文献标题并翻译\n",
    "# Written by yecy\n",
    "# 2020-04-28\n",
    "\n",
    "from requests_html import HTMLSession\n",
    "import requests\n",
    "import pandas as pd\n",
    "import json"
   ]
  },
  {
   "cell_type": "code",
   "execution_count": 17,
   "metadata": {},
   "outputs": [],
   "source": [
    "def get_titles(sel):\n",
    "    titles = []\n",
    "    try:\n",
    "        results = rec.html.find(sel)\n",
    "        for result in results:\n",
    "            get_title = result.text\n",
    "            titles.append(get_title)\n",
    "        return titles\n",
    "    except:\n",
    "        return None"
   ]
  },
  {
   "cell_type": "code",
   "execution_count": 26,
   "metadata": {},
   "outputs": [],
   "source": [
    "# edited from https://blog.csdn.net/qq_36771895/article/details/90510742\n",
    "    \n",
    "def translator(str):\n",
    "    \"\"\"\n",
    "    input : str 需要翻译的字符串\n",
    "    output：translation 翻译后的字符串\n",
    "    \"\"\"\n",
    "    # API\n",
    "    url = 'http://fanyi.youdao.com/translate?smartresult=dict&smartresult=rule&smartresult=ugc&sessionFrom=null'\n",
    "    # 传输的参数， i为要翻译的内容\n",
    "    key = {\n",
    "        'type': \"AUTO\",\n",
    "        'i': str,\n",
    "        \"doctype\": \"json\",\n",
    "        \"version\": \"2.1\",\n",
    "        \"keyfrom\": \"fanyi.web\",\n",
    "        \"ue\": \"UTF-8\",\n",
    "        \"action\": \"FY_BY_CLICKBUTTON\",\n",
    "        \"typoResult\": \"true\"\n",
    "    }\n",
    "    # key 这个字典为发送给有道词典服务器的内容\n",
    "    response = requests.post(url, data=key)\n",
    "    # 判断服务器是否相应成功\n",
    "    if response.status_code == 200:\n",
    "        # 通过 json.loads 把返回的结果加载成 json 格式\n",
    "        result = json.loads(response.text)\n",
    "#         print (\"输入的词为：%s\" % result['translateResult'][0][0]['src'])\n",
    "#         print (\"翻译结果为：%s\" % result['translateResult'][0][0]['tgt'])\n",
    "        translation = result['translateResult'][0][0]['tgt']\n",
    "        return translation\n",
    "    else:\n",
    "        # 相应失败就返回空\n",
    "        return None"
   ]
  },
  {
   "cell_type": "code",
   "execution_count": 29,
   "metadata": {},
   "outputs": [],
   "source": [
    "def get_translations(titles):\n",
    "    results = []\n",
    "    for title in titles:\n",
    "        trans_results = translator(title)\n",
    "        results.append(trans_results)\n",
    "    return results"
   ]
  },
  {
   "cell_type": "code",
   "execution_count": 2,
   "metadata": {},
   "outputs": [],
   "source": [
    "session = HTMLSession()\n",
    "url = 'https://onlinelibrary.wiley.com/toc/1099114x/2020/44/3' # Need to be edited\n",
    "rec = session.get(url)\n",
    "# print(rec.html.text)\n",
    "# print(rec.html.links)"
   ]
  },
  {
   "cell_type": "code",
   "execution_count": 3,
   "metadata": {},
   "outputs": [],
   "source": [
    "sel = '#main-content > div.page-body.pagefulltext > div > section > div > div > div > div.main-content.col-md-8 > div.table-of-content > div > div > div > a > h2'\n",
    "# 根据不同页面相应修改\n",
    "\n",
    "# results = rec.html.find(sel)\n",
    "# results"
   ]
  },
  {
   "cell_type": "code",
   "execution_count": 30,
   "metadata": {},
   "outputs": [],
   "source": [
    "# print(get_titles(sel))\n",
    "titles = get_titles(sel)\n",
    "translations = get_translations(titles)"
   ]
  },
  {
   "cell_type": "code",
   "execution_count": 35,
   "metadata": {},
   "outputs": [
    {
     "data": {
      "text/html": [
       "<div>\n",
       "<style scoped>\n",
       "    .dataframe tbody tr th:only-of-type {\n",
       "        vertical-align: middle;\n",
       "    }\n",
       "\n",
       "    .dataframe tbody tr th {\n",
       "        vertical-align: top;\n",
       "    }\n",
       "\n",
       "    .dataframe thead th {\n",
       "        text-align: right;\n",
       "    }\n",
       "</style>\n",
       "<table border=\"1\" class=\"dataframe\">\n",
       "  <thead>\n",
       "    <tr style=\"text-align: right;\">\n",
       "      <th></th>\n",
       "      <th>English</th>\n",
       "      <th>Chinese</th>\n",
       "    </tr>\n",
       "  </thead>\n",
       "  <tbody>\n",
       "    <tr>\n",
       "      <th>0</th>\n",
       "      <td>An improved electrothermal‐coupled model for t...</td>\n",
       "      <td>一个改进的电热耦合模型的温度估计空气冷却电池组</td>\n",
       "    </tr>\n",
       "    <tr>\n",
       "      <th>1</th>\n",
       "      <td>Insight into various properties of rare‐earth–...</td>\n",
       "      <td>洞察各种属性的稀有量地面逆钙钛矿Gd3AlX (X = B, N)</td>\n",
       "    </tr>\n",
       "    <tr>\n",
       "      <th>2</th>\n",
       "      <td>Solar energy harvesting and a water droplet cl...</td>\n",
       "      <td>太阳能收集和水滴micropost阵列表面的清洁</td>\n",
       "    </tr>\n",
       "    <tr>\n",
       "      <th>3</th>\n",
       "      <td>High cross‐plane thermoelectric performance of...</td>\n",
       "      <td>海绵高交叉检测平面热电性能的碳纳米管薄膜</td>\n",
       "    </tr>\n",
       "    <tr>\n",
       "      <th>4</th>\n",
       "      <td>Energy performance and numerical optimization ...</td>\n",
       "      <td>性能和数值优化螺杆expander-based太阳能热发电系统在一个广泛的操作条件波动</td>\n",
       "    </tr>\n",
       "    <tr>\n",
       "      <th>...</th>\n",
       "      <td>...</td>\n",
       "      <td>...</td>\n",
       "    </tr>\n",
       "    <tr>\n",
       "      <th>69</th>\n",
       "      <td>Optimal roof structure with multilayer cooling...</td>\n",
       "      <td>最优的屋顶结构和多层建筑节能冷却功能材料</td>\n",
       "    </tr>\n",
       "    <tr>\n",
       "      <th>70</th>\n",
       "      <td>Microencapsulation of phase change material in...</td>\n",
       "      <td>微型胶囊相变材料在水分散聚合物粒子问橡胶composites-A全面的方法</td>\n",
       "    </tr>\n",
       "    <tr>\n",
       "      <th>71</th>\n",
       "      <td>Performance optimization of a photovoltaic/the...</td>\n",
       "      <td>性能优化光伏/热收集器使用microencapsulated相变砂浆</td>\n",
       "    </tr>\n",
       "    <tr>\n",
       "      <th>72</th>\n",
       "      <td>Rose pattern for heliostat field optimization ...</td>\n",
       "      <td>增长模式定日镜场优化基于一个动态物种形成的突变微分进化</td>\n",
       "    </tr>\n",
       "    <tr>\n",
       "      <th>73</th>\n",
       "      <td>Performance investigation in modified and impr...</td>\n",
       "      <td>在修改和改进增强发电性能调查Kalina循环使用Python</td>\n",
       "    </tr>\n",
       "  </tbody>\n",
       "</table>\n",
       "<p>74 rows × 2 columns</p>\n",
       "</div>"
      ],
      "text/plain": [
       "                                              English  \\\n",
       "0   An improved electrothermal‐coupled model for t...   \n",
       "1   Insight into various properties of rare‐earth–...   \n",
       "2   Solar energy harvesting and a water droplet cl...   \n",
       "3   High cross‐plane thermoelectric performance of...   \n",
       "4   Energy performance and numerical optimization ...   \n",
       "..                                                ...   \n",
       "69  Optimal roof structure with multilayer cooling...   \n",
       "70  Microencapsulation of phase change material in...   \n",
       "71  Performance optimization of a photovoltaic/the...   \n",
       "72  Rose pattern for heliostat field optimization ...   \n",
       "73  Performance investigation in modified and impr...   \n",
       "\n",
       "                                        Chinese  \n",
       "0                       一个改进的电热耦合模型的温度估计空气冷却电池组  \n",
       "1             洞察各种属性的稀有量地面逆钙钛矿Gd3AlX (X = B, N)  \n",
       "2                      太阳能收集和水滴micropost阵列表面的清洁  \n",
       "3                          海绵高交叉检测平面热电性能的碳纳米管薄膜  \n",
       "4   性能和数值优化螺杆expander-based太阳能热发电系统在一个广泛的操作条件波动  \n",
       "..                                          ...  \n",
       "69                         最优的屋顶结构和多层建筑节能冷却功能材料  \n",
       "70        微型胶囊相变材料在水分散聚合物粒子问橡胶composites-A全面的方法  \n",
       "71           性能优化光伏/热收集器使用microencapsulated相变砂浆  \n",
       "72                  增长模式定日镜场优化基于一个动态物种形成的突变微分进化  \n",
       "73               在修改和改进增强发电性能调查Kalina循环使用Python  \n",
       "\n",
       "[74 rows x 2 columns]"
      ]
     },
     "execution_count": 35,
     "metadata": {},
     "output_type": "execute_result"
    }
   ],
   "source": [
    "df = pd.DataFrame({'English': titles, 'Chinese': translations})\n",
    "# df"
   ]
  },
  {
   "cell_type": "code",
   "execution_count": 36,
   "metadata": {},
   "outputs": [],
   "source": [
    "# output\n",
    "df.to_excel('wiley_scrap.xlsx')"
   ]
  }
 ],
 "metadata": {
  "kernelspec": {
   "display_name": "Python 3",
   "language": "python",
   "name": "python3"
  },
  "language_info": {
   "codemirror_mode": {
    "name": "ipython",
    "version": 3
   },
   "file_extension": ".py",
   "mimetype": "text/x-python",
   "name": "python",
   "nbconvert_exporter": "python",
   "pygments_lexer": "ipython3",
   "version": "3.7.6"
  }
 },
 "nbformat": 4,
 "nbformat_minor": 4
}
