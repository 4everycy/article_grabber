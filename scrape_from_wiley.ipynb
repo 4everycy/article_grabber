{
 "cells": [
  {
   "cell_type": "code",
   "execution_count": 1,
   "metadata": {},
   "outputs": [],
   "source": [
    "# 实现抓取Wiley文献标题并翻译\n",
    "# Written by yecy\n",
    "# 2020-04-28\n",
    "\n",
    "from requests_html import HTMLSession\n",
    "import requests\n",
    "import pandas as pd\n",
    "import json"
   ]
  },
  {
   "cell_type": "code",
   "execution_count": 2,
   "metadata": {},
   "outputs": [],
   "source": [
    "def get_titles(sel):\n",
    "    titles = []\n",
    "    try:\n",
    "        results = rec.html.find(sel)\n",
    "        for result in results:\n",
    "            get_title = result.text\n",
    "            titles.append(get_title)\n",
    "        return titles\n",
    "    except:\n",
    "        return None"
   ]
  },
  {
   "cell_type": "code",
   "execution_count": 3,
   "metadata": {},
   "outputs": [],
   "source": [
    "# edited from https://blog.csdn.net/qq_36771895/article/details/90510742\n",
    "    \n",
    "def translator(str):\n",
    "    \"\"\"\n",
    "    input : str 需要翻译的字符串\n",
    "    output：translation 翻译后的字符串\n",
    "    \"\"\"\n",
    "    # API\n",
    "    url = 'http://fanyi.youdao.com/translate?smartresult=dict&smartresult=rule&smartresult=ugc&sessionFrom=null'\n",
    "    # 传输的参数， i为要翻译的内容\n",
    "    key = {\n",
    "        'type': \"AUTO\",\n",
    "        'i': str,\n",
    "        \"doctype\": \"json\",\n",
    "        \"version\": \"2.1\",\n",
    "        \"keyfrom\": \"fanyi.web\",\n",
    "        \"ue\": \"UTF-8\",\n",
    "        \"action\": \"FY_BY_CLICKBUTTON\",\n",
    "        \"typoResult\": \"true\"\n",
    "    }\n",
    "    # key 这个字典为发送给有道词典服务器的内容\n",
    "    response = requests.post(url, data=key)\n",
    "    # 判断服务器是否相应成功\n",
    "    if response.status_code == 200:\n",
    "        # 通过 json.loads 把返回的结果加载成 json 格式\n",
    "        result = json.loads(response.text)\n",
    "#         print (\"输入的词为：%s\" % result['translateResult'][0][0]['src'])\n",
    "#         print (\"翻译结果为：%s\" % result['translateResult'][0][0]['tgt'])\n",
    "        translation = result['translateResult'][0][0]['tgt']\n",
    "        return translation\n",
    "    else:\n",
    "        # 相应失败就返回空\n",
    "        return None"
   ]
  },
  {
   "cell_type": "code",
   "execution_count": 4,
   "metadata": {},
   "outputs": [],
   "source": [
    "def get_translations(titles):\n",
    "    results = []\n",
    "    for title in titles:\n",
    "        trans_results = translator(title)\n",
    "        results.append(trans_results)\n",
    "    return results"
   ]
  },
  {
   "cell_type": "code",
   "execution_count": 5,
   "metadata": {},
   "outputs": [],
   "source": [
    "session = HTMLSession()\n",
    "url = 'https://onlinelibrary.wiley.com/toc/1099114x/2020/44/3' # Need to be edited\n",
    "rec = session.get(url)\n",
    "# print(rec.html.text)\n",
    "# print(rec.html.links)"
   ]
  },
  {
   "cell_type": "code",
   "execution_count": 6,
   "metadata": {},
   "outputs": [],
   "source": [
    "sel = '#main-content > div.page-body.pagefulltext > div > section > div > div > div > div.main-content.col-md-8 > div.table-of-content > div > div > div > a > h2'\n",
    "# 根据不同页面相应修改\n",
    "\n",
    "# results = rec.html.find(sel)\n",
    "# results"
   ]
  },
  {
   "cell_type": "code",
   "execution_count": 7,
   "metadata": {},
   "outputs": [],
   "source": [
    "# print(get_titles(sel))\n",
    "titles = get_titles(sel)\n",
    "translations = get_translations(titles)"
   ]
  },
  {
   "cell_type": "code",
   "execution_count": 8,
   "metadata": {},
   "outputs": [],
   "source": [
    "df = pd.DataFrame({'English': titles, 'Chinese': translations})\n",
    "# df"
   ]
  },
  {
   "cell_type": "code",
   "execution_count": 9,
   "metadata": {},
   "outputs": [],
   "source": [
    "# output\n",
    "df.to_excel('wiley_scrape.xlsx')"
   ]
  }
 ],
 "metadata": {
  "kernelspec": {
   "display_name": "Python 3",
   "language": "python",
   "name": "python3"
  },
  "language_info": {
   "codemirror_mode": {
    "name": "ipython",
    "version": 3
   },
   "file_extension": ".py",
   "mimetype": "text/x-python",
   "name": "python",
   "nbconvert_exporter": "python",
   "pygments_lexer": "ipython3",
   "version": "3.7.6"
  }
 },
 "nbformat": 4,
 "nbformat_minor": 4
}
